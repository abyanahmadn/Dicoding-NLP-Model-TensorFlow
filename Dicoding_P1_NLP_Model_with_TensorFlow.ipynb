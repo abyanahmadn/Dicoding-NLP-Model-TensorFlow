{
  "nbformat": 4,
  "nbformat_minor": 0,
  "metadata": {
    "colab": {
      "name": "Dicoding P1 - NLP Model with TensorFlow.ipynb",
      "provenance": [],
      "authorship_tag": "ABX9TyNvo9LBQl4a8XPhr/0bbE6J",
      "include_colab_link": true
    },
    "kernelspec": {
      "name": "python3",
      "display_name": "Python 3"
    },
    "language_info": {
      "name": "python"
    }
  },
  "cells": [
    {
      "cell_type": "markdown",
      "metadata": {
        "id": "view-in-github",
        "colab_type": "text"
      },
      "source": [
        "<a href=\"https://colab.research.google.com/github/abyanahmadn/Dicoding-NLP-Model-TensorFlow/blob/main/Dicoding_P1_NLP_Model_with_TensorFlow.ipynb\" target=\"_parent\"><img src=\"https://colab.research.google.com/assets/colab-badge.svg\" alt=\"Open In Colab\"/></a>"
      ]
    },
    {
      "cell_type": "code",
      "execution_count": null,
      "metadata": {
        "id": "n7ENz12znU5O"
      },
      "outputs": [],
      "source": [
        ""
      ]
    },
    {
      "cell_type": "markdown",
      "source": [
        "## **Dicoding ML Intermediate Project 1**\n",
        "\n",
        "**Title: Create NLP Model with TensorFlow**\n",
        "\n",
        "**Identity:**\n",
        "* Name: Abyan Ahmad Nurrasyid\n",
        "* Email: abyanahmadn@gmail.com"
      ],
      "metadata": {
        "id": "Q-uZ9aRZpwfu"
      }
    }
  ]
}