{
  "nbformat": 4,
  "nbformat_minor": 0,
  "metadata": {
    "colab": {
      "name": "Dicoding P1 - NLP Model with TensorFlow.ipynb",
      "provenance": [],
      "mount_file_id": "1Mhs5WrKNW7LnKX_2JFE3Y0BzweCj1kTP",
      "authorship_tag": "ABX9TyP0Z5gzPxQm8a5YMj+ETTX8",
      "include_colab_link": true
    },
    "kernelspec": {
      "name": "python3",
      "display_name": "Python 3"
    },
    "language_info": {
      "name": "python"
    }
  },
  "cells": [
    {
      "cell_type": "markdown",
      "metadata": {
        "id": "view-in-github",
        "colab_type": "text"
      },
      "source": [
        "<a href=\"https://colab.research.google.com/github/abyanahmadn/Dicoding-NLP-Model-TensorFlow/blob/main/Dicoding_P1_NLP_Model_with_TensorFlow.ipynb\" target=\"_parent\"><img src=\"https://colab.research.google.com/assets/colab-badge.svg\" alt=\"Open In Colab\"/></a>"
      ]
    },
    {
      "cell_type": "markdown",
      "source": [
        "## **Dicoding ML Intermediate Project 1**\n",
        "\n",
        "**Title: Create NLP Model with TensorFlow**\n",
        "\n",
        "**Identity:**\n",
        "* Name: Abyan Ahmad Nurrasyid\n",
        "* Email: abyanahmadn@gmail.com\n",
        "\n",
        "**Dataset : \"Indonesian Names and Its Gender\"** \\\n",
        "> Sumber : Kaggle \\\n",
        "> Link Dataset : https://www.kaggle.com/dionisiusdh/indonesian-names"
      ],
      "metadata": {
        "id": "Q-uZ9aRZpwfu"
      }
    },
    {
      "cell_type": "code",
      "source": [
        "from google.colab import drive\n",
        "\n",
        "# u/ dataframe\n",
        "import pandas as pd\n",
        "\n",
        "# u/ split data\n",
        "from sklearn.model_selection import train_test_split\n",
        "\n",
        "# u/ preprocessing dan layer\n",
        "import tensorflow as tf\n",
        "from tensorflow.keras.preprocessing.text import Tokenizer\n",
        "from tensorflow.keras.preprocessing.sequence import pad_sequences #u/ menggunakan padding\n",
        "from tensorflow.keras.layers import LSTM,Dense,Embedding,Dropout,GlobalAveragePooling1D\n",
        "from tensorflow.keras.models import Sequential\n",
        "from tensorflow.keras.optimizers import Adam\n",
        "\n",
        "# u/ visualisasi plot\n",
        "import matplotlib.pyplot as plt"
      ],
      "metadata": {
        "id": "dCk1EURxflhU"
      },
      "execution_count": 70,
      "outputs": []
    },
    {
      "cell_type": "markdown",
      "source": [
        "Mount ke drive"
      ],
      "metadata": {
        "id": "AP-G_blHfOr8"
      }
    },
    {
      "cell_type": "code",
      "metadata": {
        "colab": {
          "base_uri": "https://localhost:8080/"
        },
        "id": "4uaE-mpIZKAt",
        "outputId": "ca9a387e-475f-4a85-8b15-fe86a983ef57"
      },
      "source": [
        "drive.mount('/content/drive')"
      ],
      "execution_count": 71,
      "outputs": [
        {
          "output_type": "stream",
          "name": "stdout",
          "text": [
            "Drive already mounted at /content/drive; to attempt to forcibly remount, call drive.mount(\"/content/drive\", force_remount=True).\n"
          ]
        }
      ]
    },
    {
      "cell_type": "markdown",
      "source": [
        "Read Dataset dari drive"
      ],
      "metadata": {
        "id": "US8-6HWAfRb8"
      }
    },
    {
      "cell_type": "code",
      "source": [
        "df = pd.read_csv(\"/content/drive/My Drive/Colab Notebooks/2. Dicoding ML Menengah/indonesian-names.csv\")\n",
        "df.head()"
      ],
      "metadata": {
        "colab": {
          "base_uri": "https://localhost:8080/",
          "height": 206
        },
        "id": "bRzmFYWefUbn",
        "outputId": "390746fc-e94f-4ff4-c92d-379c0dda8ccf"
      },
      "execution_count": 72,
      "outputs": [
        {
          "output_type": "execute_result",
          "data": {
            "text/html": [
              "\n",
              "  <div id=\"df-fc2b3ee5-4760-431e-852b-957d4ec612f3\">\n",
              "    <div class=\"colab-df-container\">\n",
              "      <div>\n",
              "<style scoped>\n",
              "    .dataframe tbody tr th:only-of-type {\n",
              "        vertical-align: middle;\n",
              "    }\n",
              "\n",
              "    .dataframe tbody tr th {\n",
              "        vertical-align: top;\n",
              "    }\n",
              "\n",
              "    .dataframe thead th {\n",
              "        text-align: right;\n",
              "    }\n",
              "</style>\n",
              "<table border=\"1\" class=\"dataframe\">\n",
              "  <thead>\n",
              "    <tr style=\"text-align: right;\">\n",
              "      <th></th>\n",
              "      <th>name</th>\n",
              "      <th>gender</th>\n",
              "    </tr>\n",
              "  </thead>\n",
              "  <tbody>\n",
              "    <tr>\n",
              "      <th>0</th>\n",
              "      <td>hafizhan shidqi</td>\n",
              "      <td>m</td>\n",
              "    </tr>\n",
              "    <tr>\n",
              "      <th>1</th>\n",
              "      <td>gandhi wibowo</td>\n",
              "      <td>m</td>\n",
              "    </tr>\n",
              "    <tr>\n",
              "      <th>2</th>\n",
              "      <td>aldio mahendra purwandrarto</td>\n",
              "      <td>m</td>\n",
              "    </tr>\n",
              "    <tr>\n",
              "      <th>3</th>\n",
              "      <td>benny putra</td>\n",
              "      <td>m</td>\n",
              "    </tr>\n",
              "    <tr>\n",
              "      <th>4</th>\n",
              "      <td>vicky vernando dasta</td>\n",
              "      <td>m</td>\n",
              "    </tr>\n",
              "  </tbody>\n",
              "</table>\n",
              "</div>\n",
              "      <button class=\"colab-df-convert\" onclick=\"convertToInteractive('df-fc2b3ee5-4760-431e-852b-957d4ec612f3')\"\n",
              "              title=\"Convert this dataframe to an interactive table.\"\n",
              "              style=\"display:none;\">\n",
              "        \n",
              "  <svg xmlns=\"http://www.w3.org/2000/svg\" height=\"24px\"viewBox=\"0 0 24 24\"\n",
              "       width=\"24px\">\n",
              "    <path d=\"M0 0h24v24H0V0z\" fill=\"none\"/>\n",
              "    <path d=\"M18.56 5.44l.94 2.06.94-2.06 2.06-.94-2.06-.94-.94-2.06-.94 2.06-2.06.94zm-11 1L8.5 8.5l.94-2.06 2.06-.94-2.06-.94L8.5 2.5l-.94 2.06-2.06.94zm10 10l.94 2.06.94-2.06 2.06-.94-2.06-.94-.94-2.06-.94 2.06-2.06.94z\"/><path d=\"M17.41 7.96l-1.37-1.37c-.4-.4-.92-.59-1.43-.59-.52 0-1.04.2-1.43.59L10.3 9.45l-7.72 7.72c-.78.78-.78 2.05 0 2.83L4 21.41c.39.39.9.59 1.41.59.51 0 1.02-.2 1.41-.59l7.78-7.78 2.81-2.81c.8-.78.8-2.07 0-2.86zM5.41 20L4 18.59l7.72-7.72 1.47 1.35L5.41 20z\"/>\n",
              "  </svg>\n",
              "      </button>\n",
              "      \n",
              "  <style>\n",
              "    .colab-df-container {\n",
              "      display:flex;\n",
              "      flex-wrap:wrap;\n",
              "      gap: 12px;\n",
              "    }\n",
              "\n",
              "    .colab-df-convert {\n",
              "      background-color: #E8F0FE;\n",
              "      border: none;\n",
              "      border-radius: 50%;\n",
              "      cursor: pointer;\n",
              "      display: none;\n",
              "      fill: #1967D2;\n",
              "      height: 32px;\n",
              "      padding: 0 0 0 0;\n",
              "      width: 32px;\n",
              "    }\n",
              "\n",
              "    .colab-df-convert:hover {\n",
              "      background-color: #E2EBFA;\n",
              "      box-shadow: 0px 1px 2px rgba(60, 64, 67, 0.3), 0px 1px 3px 1px rgba(60, 64, 67, 0.15);\n",
              "      fill: #174EA6;\n",
              "    }\n",
              "\n",
              "    [theme=dark] .colab-df-convert {\n",
              "      background-color: #3B4455;\n",
              "      fill: #D2E3FC;\n",
              "    }\n",
              "\n",
              "    [theme=dark] .colab-df-convert:hover {\n",
              "      background-color: #434B5C;\n",
              "      box-shadow: 0px 1px 3px 1px rgba(0, 0, 0, 0.15);\n",
              "      filter: drop-shadow(0px 1px 2px rgba(0, 0, 0, 0.3));\n",
              "      fill: #FFFFFF;\n",
              "    }\n",
              "  </style>\n",
              "\n",
              "      <script>\n",
              "        const buttonEl =\n",
              "          document.querySelector('#df-fc2b3ee5-4760-431e-852b-957d4ec612f3 button.colab-df-convert');\n",
              "        buttonEl.style.display =\n",
              "          google.colab.kernel.accessAllowed ? 'block' : 'none';\n",
              "\n",
              "        async function convertToInteractive(key) {\n",
              "          const element = document.querySelector('#df-fc2b3ee5-4760-431e-852b-957d4ec612f3');\n",
              "          const dataTable =\n",
              "            await google.colab.kernel.invokeFunction('convertToInteractive',\n",
              "                                                     [key], {});\n",
              "          if (!dataTable) return;\n",
              "\n",
              "          const docLinkHtml = 'Like what you see? Visit the ' +\n",
              "            '<a target=\"_blank\" href=https://colab.research.google.com/notebooks/data_table.ipynb>data table notebook</a>'\n",
              "            + ' to learn more about interactive tables.';\n",
              "          element.innerHTML = '';\n",
              "          dataTable['output_type'] = 'display_data';\n",
              "          await google.colab.output.renderOutput(dataTable, element);\n",
              "          const docLink = document.createElement('div');\n",
              "          docLink.innerHTML = docLinkHtml;\n",
              "          element.appendChild(docLink);\n",
              "        }\n",
              "      </script>\n",
              "    </div>\n",
              "  </div>\n",
              "  "
            ],
            "text/plain": [
              "                          name gender\n",
              "0              hafizhan shidqi      m\n",
              "1                gandhi wibowo      m\n",
              "2  aldio mahendra purwandrarto      m\n",
              "3                  benny putra      m\n",
              "4         vicky vernando dasta      m"
            ]
          },
          "metadata": {},
          "execution_count": 72
        }
      ]
    },
    {
      "cell_type": "code",
      "source": [
        "df.tail()"
      ],
      "metadata": {
        "colab": {
          "base_uri": "https://localhost:8080/",
          "height": 206
        },
        "id": "vJBL90v9gCA6",
        "outputId": "9fcf13c3-e330-46fa-d399-a522f9506a31"
      },
      "execution_count": 73,
      "outputs": [
        {
          "output_type": "execute_result",
          "data": {
            "text/html": [
              "\n",
              "  <div id=\"df-1f0ad568-0639-4f4b-8fd8-9ba4fdd25a1c\">\n",
              "    <div class=\"colab-df-container\">\n",
              "      <div>\n",
              "<style scoped>\n",
              "    .dataframe tbody tr th:only-of-type {\n",
              "        vertical-align: middle;\n",
              "    }\n",
              "\n",
              "    .dataframe tbody tr th {\n",
              "        vertical-align: top;\n",
              "    }\n",
              "\n",
              "    .dataframe thead th {\n",
              "        text-align: right;\n",
              "    }\n",
              "</style>\n",
              "<table border=\"1\" class=\"dataframe\">\n",
              "  <thead>\n",
              "    <tr style=\"text-align: right;\">\n",
              "      <th></th>\n",
              "      <th>name</th>\n",
              "      <th>gender</th>\n",
              "    </tr>\n",
              "  </thead>\n",
              "  <tbody>\n",
              "    <tr>\n",
              "      <th>1955</th>\n",
              "      <td>hadimah</td>\n",
              "      <td>f</td>\n",
              "    </tr>\n",
              "    <tr>\n",
              "      <th>1956</th>\n",
              "      <td>aprillia rahma wati</td>\n",
              "      <td>f</td>\n",
              "    </tr>\n",
              "    <tr>\n",
              "      <th>1957</th>\n",
              "      <td>muhamad khoirunisa. m</td>\n",
              "      <td>m</td>\n",
              "    </tr>\n",
              "    <tr>\n",
              "      <th>1958</th>\n",
              "      <td>sukandi</td>\n",
              "      <td>m</td>\n",
              "    </tr>\n",
              "    <tr>\n",
              "      <th>1959</th>\n",
              "      <td>eem</td>\n",
              "      <td>f</td>\n",
              "    </tr>\n",
              "  </tbody>\n",
              "</table>\n",
              "</div>\n",
              "      <button class=\"colab-df-convert\" onclick=\"convertToInteractive('df-1f0ad568-0639-4f4b-8fd8-9ba4fdd25a1c')\"\n",
              "              title=\"Convert this dataframe to an interactive table.\"\n",
              "              style=\"display:none;\">\n",
              "        \n",
              "  <svg xmlns=\"http://www.w3.org/2000/svg\" height=\"24px\"viewBox=\"0 0 24 24\"\n",
              "       width=\"24px\">\n",
              "    <path d=\"M0 0h24v24H0V0z\" fill=\"none\"/>\n",
              "    <path d=\"M18.56 5.44l.94 2.06.94-2.06 2.06-.94-2.06-.94-.94-2.06-.94 2.06-2.06.94zm-11 1L8.5 8.5l.94-2.06 2.06-.94-2.06-.94L8.5 2.5l-.94 2.06-2.06.94zm10 10l.94 2.06.94-2.06 2.06-.94-2.06-.94-.94-2.06-.94 2.06-2.06.94z\"/><path d=\"M17.41 7.96l-1.37-1.37c-.4-.4-.92-.59-1.43-.59-.52 0-1.04.2-1.43.59L10.3 9.45l-7.72 7.72c-.78.78-.78 2.05 0 2.83L4 21.41c.39.39.9.59 1.41.59.51 0 1.02-.2 1.41-.59l7.78-7.78 2.81-2.81c.8-.78.8-2.07 0-2.86zM5.41 20L4 18.59l7.72-7.72 1.47 1.35L5.41 20z\"/>\n",
              "  </svg>\n",
              "      </button>\n",
              "      \n",
              "  <style>\n",
              "    .colab-df-container {\n",
              "      display:flex;\n",
              "      flex-wrap:wrap;\n",
              "      gap: 12px;\n",
              "    }\n",
              "\n",
              "    .colab-df-convert {\n",
              "      background-color: #E8F0FE;\n",
              "      border: none;\n",
              "      border-radius: 50%;\n",
              "      cursor: pointer;\n",
              "      display: none;\n",
              "      fill: #1967D2;\n",
              "      height: 32px;\n",
              "      padding: 0 0 0 0;\n",
              "      width: 32px;\n",
              "    }\n",
              "\n",
              "    .colab-df-convert:hover {\n",
              "      background-color: #E2EBFA;\n",
              "      box-shadow: 0px 1px 2px rgba(60, 64, 67, 0.3), 0px 1px 3px 1px rgba(60, 64, 67, 0.15);\n",
              "      fill: #174EA6;\n",
              "    }\n",
              "\n",
              "    [theme=dark] .colab-df-convert {\n",
              "      background-color: #3B4455;\n",
              "      fill: #D2E3FC;\n",
              "    }\n",
              "\n",
              "    [theme=dark] .colab-df-convert:hover {\n",
              "      background-color: #434B5C;\n",
              "      box-shadow: 0px 1px 3px 1px rgba(0, 0, 0, 0.15);\n",
              "      filter: drop-shadow(0px 1px 2px rgba(0, 0, 0, 0.3));\n",
              "      fill: #FFFFFF;\n",
              "    }\n",
              "  </style>\n",
              "\n",
              "      <script>\n",
              "        const buttonEl =\n",
              "          document.querySelector('#df-1f0ad568-0639-4f4b-8fd8-9ba4fdd25a1c button.colab-df-convert');\n",
              "        buttonEl.style.display =\n",
              "          google.colab.kernel.accessAllowed ? 'block' : 'none';\n",
              "\n",
              "        async function convertToInteractive(key) {\n",
              "          const element = document.querySelector('#df-1f0ad568-0639-4f4b-8fd8-9ba4fdd25a1c');\n",
              "          const dataTable =\n",
              "            await google.colab.kernel.invokeFunction('convertToInteractive',\n",
              "                                                     [key], {});\n",
              "          if (!dataTable) return;\n",
              "\n",
              "          const docLinkHtml = 'Like what you see? Visit the ' +\n",
              "            '<a target=\"_blank\" href=https://colab.research.google.com/notebooks/data_table.ipynb>data table notebook</a>'\n",
              "            + ' to learn more about interactive tables.';\n",
              "          element.innerHTML = '';\n",
              "          dataTable['output_type'] = 'display_data';\n",
              "          await google.colab.output.renderOutput(dataTable, element);\n",
              "          const docLink = document.createElement('div');\n",
              "          docLink.innerHTML = docLinkHtml;\n",
              "          element.appendChild(docLink);\n",
              "        }\n",
              "      </script>\n",
              "    </div>\n",
              "  </div>\n",
              "  "
            ],
            "text/plain": [
              "                       name gender\n",
              "1955                hadimah      f\n",
              "1956    aprillia rahma wati      f\n",
              "1957  muhamad khoirunisa. m      m\n",
              "1958                sukandi      m\n",
              "1959                    eem      f"
            ]
          },
          "metadata": {},
          "execution_count": 73
        }
      ]
    },
    {
      "cell_type": "code",
      "source": [
        "df['gender'].value_counts()"
      ],
      "metadata": {
        "colab": {
          "base_uri": "https://localhost:8080/"
        },
        "id": "Ity1PLh5gPDs",
        "outputId": "446c6dba-decd-4001-b212-8bfa76c176c6"
      },
      "execution_count": 74,
      "outputs": [
        {
          "output_type": "execute_result",
          "data": {
            "text/plain": [
              "m    1094\n",
              "f     866\n",
              "Name: gender, dtype: int64"
            ]
          },
          "metadata": {},
          "execution_count": 74
        }
      ]
    },
    {
      "cell_type": "markdown",
      "source": [
        "Pengecekan nilai kosong"
      ],
      "metadata": {
        "id": "JEs_yxxvgfYy"
      }
    },
    {
      "cell_type": "code",
      "source": [
        "# Mengecek nilai kosong / nan\n",
        "# Jika true maka ada dan jika false maka tidak ada nilai kosong / nan\n",
        "df.isnull().values.any()"
      ],
      "metadata": {
        "colab": {
          "base_uri": "https://localhost:8080/"
        },
        "id": "1zzsdqKRgeJ2",
        "outputId": "ea265799-1d4f-4284-d612-2451a2d2c8d2"
      },
      "execution_count": 75,
      "outputs": [
        {
          "output_type": "execute_result",
          "data": {
            "text/plain": [
              "False"
            ]
          },
          "metadata": {},
          "execution_count": 75
        }
      ]
    },
    {
      "cell_type": "markdown",
      "source": [
        "# One-Hot-Encoding\n",
        "Karena label berupa data kategorikal, maka perlu melakukan proses one-hot-encoding dan membuat dataframe baru."
      ],
      "metadata": {
        "id": "Nm2_tGcEgnEk"
      }
    },
    {
      "cell_type": "code",
      "source": [
        "gender = pd.get_dummies(df.gender) # proses one hot encoding\n",
        "df_gender = pd.concat([df, gender], axis=1) # menggabung df lama dengan column hasil O-H-E mjd df baru (df_gender), axis = 1 artinya secara horizontal\n",
        "df_gender = df_gender.drop(columns='gender') # menghapus column 'gender' karena sdh tdk dipakai\n",
        "df_gender.tail()"
      ],
      "metadata": {
        "colab": {
          "base_uri": "https://localhost:8080/",
          "height": 206
        },
        "id": "w-Hx2S60gmKz",
        "outputId": "e6e5bb4a-52c0-4b10-d2b8-03e369e6c1ef"
      },
      "execution_count": 77,
      "outputs": [
        {
          "output_type": "execute_result",
          "data": {
            "text/html": [
              "\n",
              "  <div id=\"df-daa3845d-4a37-45b9-9460-173d2b4f065e\">\n",
              "    <div class=\"colab-df-container\">\n",
              "      <div>\n",
              "<style scoped>\n",
              "    .dataframe tbody tr th:only-of-type {\n",
              "        vertical-align: middle;\n",
              "    }\n",
              "\n",
              "    .dataframe tbody tr th {\n",
              "        vertical-align: top;\n",
              "    }\n",
              "\n",
              "    .dataframe thead th {\n",
              "        text-align: right;\n",
              "    }\n",
              "</style>\n",
              "<table border=\"1\" class=\"dataframe\">\n",
              "  <thead>\n",
              "    <tr style=\"text-align: right;\">\n",
              "      <th></th>\n",
              "      <th>name</th>\n",
              "      <th>f</th>\n",
              "      <th>m</th>\n",
              "    </tr>\n",
              "  </thead>\n",
              "  <tbody>\n",
              "    <tr>\n",
              "      <th>1955</th>\n",
              "      <td>hadimah</td>\n",
              "      <td>1</td>\n",
              "      <td>0</td>\n",
              "    </tr>\n",
              "    <tr>\n",
              "      <th>1956</th>\n",
              "      <td>aprillia rahma wati</td>\n",
              "      <td>1</td>\n",
              "      <td>0</td>\n",
              "    </tr>\n",
              "    <tr>\n",
              "      <th>1957</th>\n",
              "      <td>muhamad khoirunisa. m</td>\n",
              "      <td>0</td>\n",
              "      <td>1</td>\n",
              "    </tr>\n",
              "    <tr>\n",
              "      <th>1958</th>\n",
              "      <td>sukandi</td>\n",
              "      <td>0</td>\n",
              "      <td>1</td>\n",
              "    </tr>\n",
              "    <tr>\n",
              "      <th>1959</th>\n",
              "      <td>eem</td>\n",
              "      <td>1</td>\n",
              "      <td>0</td>\n",
              "    </tr>\n",
              "  </tbody>\n",
              "</table>\n",
              "</div>\n",
              "      <button class=\"colab-df-convert\" onclick=\"convertToInteractive('df-daa3845d-4a37-45b9-9460-173d2b4f065e')\"\n",
              "              title=\"Convert this dataframe to an interactive table.\"\n",
              "              style=\"display:none;\">\n",
              "        \n",
              "  <svg xmlns=\"http://www.w3.org/2000/svg\" height=\"24px\"viewBox=\"0 0 24 24\"\n",
              "       width=\"24px\">\n",
              "    <path d=\"M0 0h24v24H0V0z\" fill=\"none\"/>\n",
              "    <path d=\"M18.56 5.44l.94 2.06.94-2.06 2.06-.94-2.06-.94-.94-2.06-.94 2.06-2.06.94zm-11 1L8.5 8.5l.94-2.06 2.06-.94-2.06-.94L8.5 2.5l-.94 2.06-2.06.94zm10 10l.94 2.06.94-2.06 2.06-.94-2.06-.94-.94-2.06-.94 2.06-2.06.94z\"/><path d=\"M17.41 7.96l-1.37-1.37c-.4-.4-.92-.59-1.43-.59-.52 0-1.04.2-1.43.59L10.3 9.45l-7.72 7.72c-.78.78-.78 2.05 0 2.83L4 21.41c.39.39.9.59 1.41.59.51 0 1.02-.2 1.41-.59l7.78-7.78 2.81-2.81c.8-.78.8-2.07 0-2.86zM5.41 20L4 18.59l7.72-7.72 1.47 1.35L5.41 20z\"/>\n",
              "  </svg>\n",
              "      </button>\n",
              "      \n",
              "  <style>\n",
              "    .colab-df-container {\n",
              "      display:flex;\n",
              "      flex-wrap:wrap;\n",
              "      gap: 12px;\n",
              "    }\n",
              "\n",
              "    .colab-df-convert {\n",
              "      background-color: #E8F0FE;\n",
              "      border: none;\n",
              "      border-radius: 50%;\n",
              "      cursor: pointer;\n",
              "      display: none;\n",
              "      fill: #1967D2;\n",
              "      height: 32px;\n",
              "      padding: 0 0 0 0;\n",
              "      width: 32px;\n",
              "    }\n",
              "\n",
              "    .colab-df-convert:hover {\n",
              "      background-color: #E2EBFA;\n",
              "      box-shadow: 0px 1px 2px rgba(60, 64, 67, 0.3), 0px 1px 3px 1px rgba(60, 64, 67, 0.15);\n",
              "      fill: #174EA6;\n",
              "    }\n",
              "\n",
              "    [theme=dark] .colab-df-convert {\n",
              "      background-color: #3B4455;\n",
              "      fill: #D2E3FC;\n",
              "    }\n",
              "\n",
              "    [theme=dark] .colab-df-convert:hover {\n",
              "      background-color: #434B5C;\n",
              "      box-shadow: 0px 1px 3px 1px rgba(0, 0, 0, 0.15);\n",
              "      filter: drop-shadow(0px 1px 2px rgba(0, 0, 0, 0.3));\n",
              "      fill: #FFFFFF;\n",
              "    }\n",
              "  </style>\n",
              "\n",
              "      <script>\n",
              "        const buttonEl =\n",
              "          document.querySelector('#df-daa3845d-4a37-45b9-9460-173d2b4f065e button.colab-df-convert');\n",
              "        buttonEl.style.display =\n",
              "          google.colab.kernel.accessAllowed ? 'block' : 'none';\n",
              "\n",
              "        async function convertToInteractive(key) {\n",
              "          const element = document.querySelector('#df-daa3845d-4a37-45b9-9460-173d2b4f065e');\n",
              "          const dataTable =\n",
              "            await google.colab.kernel.invokeFunction('convertToInteractive',\n",
              "                                                     [key], {});\n",
              "          if (!dataTable) return;\n",
              "\n",
              "          const docLinkHtml = 'Like what you see? Visit the ' +\n",
              "            '<a target=\"_blank\" href=https://colab.research.google.com/notebooks/data_table.ipynb>data table notebook</a>'\n",
              "            + ' to learn more about interactive tables.';\n",
              "          element.innerHTML = '';\n",
              "          dataTable['output_type'] = 'display_data';\n",
              "          await google.colab.output.renderOutput(dataTable, element);\n",
              "          const docLink = document.createElement('div');\n",
              "          docLink.innerHTML = docLinkHtml;\n",
              "          element.appendChild(docLink);\n",
              "        }\n",
              "      </script>\n",
              "    </div>\n",
              "  </div>\n",
              "  "
            ],
            "text/plain": [
              "                       name  f  m\n",
              "1955                hadimah  1  0\n",
              "1956    aprillia rahma wati  1  0\n",
              "1957  muhamad khoirunisa. m  0  1\n",
              "1958                sukandi  0  1\n",
              "1959                    eem  1  0"
            ]
          },
          "metadata": {},
          "execution_count": 77
        }
      ]
    },
    {
      "cell_type": "markdown",
      "source": [
        "Mengubah nama column 'f' dan 'm' mejadi 'female' dan 'male'"
      ],
      "metadata": {
        "id": "makGPPqS5wB1"
      }
    },
    {
      "cell_type": "code",
      "source": [
        "df_gender.rename(columns={df_gender.columns[1]:'female', df_gender.columns[2]:'male'}, inplace=True) # inplace=True -> ngereplace df (saving the df back to the same df variabl), inplace=False -> make a copy df\n",
        "df_gender.tail()"
      ],
      "metadata": {
        "colab": {
          "base_uri": "https://localhost:8080/",
          "height": 206
        },
        "id": "a1IWjfbS5DmY",
        "outputId": "52455ffa-37a5-462f-d3fd-38a03dd7288a"
      },
      "execution_count": 78,
      "outputs": [
        {
          "output_type": "execute_result",
          "data": {
            "text/html": [
              "\n",
              "  <div id=\"df-403ee933-b087-4146-bcf4-11595da5aa37\">\n",
              "    <div class=\"colab-df-container\">\n",
              "      <div>\n",
              "<style scoped>\n",
              "    .dataframe tbody tr th:only-of-type {\n",
              "        vertical-align: middle;\n",
              "    }\n",
              "\n",
              "    .dataframe tbody tr th {\n",
              "        vertical-align: top;\n",
              "    }\n",
              "\n",
              "    .dataframe thead th {\n",
              "        text-align: right;\n",
              "    }\n",
              "</style>\n",
              "<table border=\"1\" class=\"dataframe\">\n",
              "  <thead>\n",
              "    <tr style=\"text-align: right;\">\n",
              "      <th></th>\n",
              "      <th>name</th>\n",
              "      <th>female</th>\n",
              "      <th>male</th>\n",
              "    </tr>\n",
              "  </thead>\n",
              "  <tbody>\n",
              "    <tr>\n",
              "      <th>1955</th>\n",
              "      <td>hadimah</td>\n",
              "      <td>1</td>\n",
              "      <td>0</td>\n",
              "    </tr>\n",
              "    <tr>\n",
              "      <th>1956</th>\n",
              "      <td>aprillia rahma wati</td>\n",
              "      <td>1</td>\n",
              "      <td>0</td>\n",
              "    </tr>\n",
              "    <tr>\n",
              "      <th>1957</th>\n",
              "      <td>muhamad khoirunisa. m</td>\n",
              "      <td>0</td>\n",
              "      <td>1</td>\n",
              "    </tr>\n",
              "    <tr>\n",
              "      <th>1958</th>\n",
              "      <td>sukandi</td>\n",
              "      <td>0</td>\n",
              "      <td>1</td>\n",
              "    </tr>\n",
              "    <tr>\n",
              "      <th>1959</th>\n",
              "      <td>eem</td>\n",
              "      <td>1</td>\n",
              "      <td>0</td>\n",
              "    </tr>\n",
              "  </tbody>\n",
              "</table>\n",
              "</div>\n",
              "      <button class=\"colab-df-convert\" onclick=\"convertToInteractive('df-403ee933-b087-4146-bcf4-11595da5aa37')\"\n",
              "              title=\"Convert this dataframe to an interactive table.\"\n",
              "              style=\"display:none;\">\n",
              "        \n",
              "  <svg xmlns=\"http://www.w3.org/2000/svg\" height=\"24px\"viewBox=\"0 0 24 24\"\n",
              "       width=\"24px\">\n",
              "    <path d=\"M0 0h24v24H0V0z\" fill=\"none\"/>\n",
              "    <path d=\"M18.56 5.44l.94 2.06.94-2.06 2.06-.94-2.06-.94-.94-2.06-.94 2.06-2.06.94zm-11 1L8.5 8.5l.94-2.06 2.06-.94-2.06-.94L8.5 2.5l-.94 2.06-2.06.94zm10 10l.94 2.06.94-2.06 2.06-.94-2.06-.94-.94-2.06-.94 2.06-2.06.94z\"/><path d=\"M17.41 7.96l-1.37-1.37c-.4-.4-.92-.59-1.43-.59-.52 0-1.04.2-1.43.59L10.3 9.45l-7.72 7.72c-.78.78-.78 2.05 0 2.83L4 21.41c.39.39.9.59 1.41.59.51 0 1.02-.2 1.41-.59l7.78-7.78 2.81-2.81c.8-.78.8-2.07 0-2.86zM5.41 20L4 18.59l7.72-7.72 1.47 1.35L5.41 20z\"/>\n",
              "  </svg>\n",
              "      </button>\n",
              "      \n",
              "  <style>\n",
              "    .colab-df-container {\n",
              "      display:flex;\n",
              "      flex-wrap:wrap;\n",
              "      gap: 12px;\n",
              "    }\n",
              "\n",
              "    .colab-df-convert {\n",
              "      background-color: #E8F0FE;\n",
              "      border: none;\n",
              "      border-radius: 50%;\n",
              "      cursor: pointer;\n",
              "      display: none;\n",
              "      fill: #1967D2;\n",
              "      height: 32px;\n",
              "      padding: 0 0 0 0;\n",
              "      width: 32px;\n",
              "    }\n",
              "\n",
              "    .colab-df-convert:hover {\n",
              "      background-color: #E2EBFA;\n",
              "      box-shadow: 0px 1px 2px rgba(60, 64, 67, 0.3), 0px 1px 3px 1px rgba(60, 64, 67, 0.15);\n",
              "      fill: #174EA6;\n",
              "    }\n",
              "\n",
              "    [theme=dark] .colab-df-convert {\n",
              "      background-color: #3B4455;\n",
              "      fill: #D2E3FC;\n",
              "    }\n",
              "\n",
              "    [theme=dark] .colab-df-convert:hover {\n",
              "      background-color: #434B5C;\n",
              "      box-shadow: 0px 1px 3px 1px rgba(0, 0, 0, 0.15);\n",
              "      filter: drop-shadow(0px 1px 2px rgba(0, 0, 0, 0.3));\n",
              "      fill: #FFFFFF;\n",
              "    }\n",
              "  </style>\n",
              "\n",
              "      <script>\n",
              "        const buttonEl =\n",
              "          document.querySelector('#df-403ee933-b087-4146-bcf4-11595da5aa37 button.colab-df-convert');\n",
              "        buttonEl.style.display =\n",
              "          google.colab.kernel.accessAllowed ? 'block' : 'none';\n",
              "\n",
              "        async function convertToInteractive(key) {\n",
              "          const element = document.querySelector('#df-403ee933-b087-4146-bcf4-11595da5aa37');\n",
              "          const dataTable =\n",
              "            await google.colab.kernel.invokeFunction('convertToInteractive',\n",
              "                                                     [key], {});\n",
              "          if (!dataTable) return;\n",
              "\n",
              "          const docLinkHtml = 'Like what you see? Visit the ' +\n",
              "            '<a target=\"_blank\" href=https://colab.research.google.com/notebooks/data_table.ipynb>data table notebook</a>'\n",
              "            + ' to learn more about interactive tables.';\n",
              "          element.innerHTML = '';\n",
              "          dataTable['output_type'] = 'display_data';\n",
              "          await google.colab.output.renderOutput(dataTable, element);\n",
              "          const docLink = document.createElement('div');\n",
              "          docLink.innerHTML = docLinkHtml;\n",
              "          element.appendChild(docLink);\n",
              "        }\n",
              "      </script>\n",
              "    </div>\n",
              "  </div>\n",
              "  "
            ],
            "text/plain": [
              "                       name  female  male\n",
              "1955                hadimah       1     0\n",
              "1956    aprillia rahma wati       1     0\n",
              "1957  muhamad khoirunisa. m       0     1\n",
              "1958                sukandi       0     1\n",
              "1959                    eem       1     0"
            ]
          },
          "metadata": {},
          "execution_count": 78
        }
      ]
    },
    {
      "cell_type": "markdown",
      "source": [
        "Setelah itu kita akan menghitung jumlah kata yang terdapat pada kolom text dengan membuat fungsi sendiri. Fungsi penghitungan kata ini akan digunakan sebagai bentuk dari data. Hasil dari fungsi ini akan digunakan sebagai patokan dalam membuat input layer pada model."
      ],
      "metadata": {
        "id": "O54uWzSExrz_"
      }
    },
    {
      "cell_type": "code",
      "source": [
        "from collections import Counter\n",
        "\n",
        "def wordCount(name):\n",
        "  count = Counter()\n",
        "  for i in name.values():\n",
        "    for word in i.split():\n",
        "      count[word] += 1\n",
        "  return count\n",
        "\n",
        "name = df.name\n",
        "counter = wordCount(name)\n",
        "\n",
        "num_word = len(counter)\n",
        "print(numword)"
      ],
      "metadata": {
        "colab": {
          "base_uri": "https://localhost:8080/",
          "height": 356
        },
        "id": "bd26To3Gxrbb",
        "outputId": "c040f9f8-8a0b-421a-be32-3ac44d84ce38"
      },
      "execution_count": 79,
      "outputs": [
        {
          "output_type": "error",
          "ename": "TypeError",
          "evalue": "ignored",
          "traceback": [
            "\u001b[0;31m---------------------------------------------------------------------------\u001b[0m",
            "\u001b[0;31mTypeError\u001b[0m                                 Traceback (most recent call last)",
            "\u001b[0;32m<ipython-input-79-d3b7318d3774>\u001b[0m in \u001b[0;36m<module>\u001b[0;34m()\u001b[0m\n\u001b[1;32m      9\u001b[0m \u001b[0;34m\u001b[0m\u001b[0m\n\u001b[1;32m     10\u001b[0m \u001b[0mname\u001b[0m \u001b[0;34m=\u001b[0m \u001b[0mdf\u001b[0m\u001b[0;34m.\u001b[0m\u001b[0mname\u001b[0m\u001b[0;34m\u001b[0m\u001b[0;34m\u001b[0m\u001b[0m\n\u001b[0;32m---> 11\u001b[0;31m \u001b[0mcounter\u001b[0m \u001b[0;34m=\u001b[0m \u001b[0mwordCount\u001b[0m\u001b[0;34m(\u001b[0m\u001b[0mname\u001b[0m\u001b[0;34m)\u001b[0m\u001b[0;34m\u001b[0m\u001b[0;34m\u001b[0m\u001b[0m\n\u001b[0m\u001b[1;32m     12\u001b[0m \u001b[0;34m\u001b[0m\u001b[0m\n\u001b[1;32m     13\u001b[0m \u001b[0mnum_word\u001b[0m \u001b[0;34m=\u001b[0m \u001b[0mlen\u001b[0m\u001b[0;34m(\u001b[0m\u001b[0mcounter\u001b[0m\u001b[0;34m)\u001b[0m\u001b[0;34m\u001b[0m\u001b[0;34m\u001b[0m\u001b[0m\n",
            "\u001b[0;32m<ipython-input-79-d3b7318d3774>\u001b[0m in \u001b[0;36mwordCount\u001b[0;34m(name)\u001b[0m\n\u001b[1;32m      3\u001b[0m \u001b[0;32mdef\u001b[0m \u001b[0mwordCount\u001b[0m\u001b[0;34m(\u001b[0m\u001b[0mname\u001b[0m\u001b[0;34m)\u001b[0m\u001b[0;34m:\u001b[0m\u001b[0;34m\u001b[0m\u001b[0;34m\u001b[0m\u001b[0m\n\u001b[1;32m      4\u001b[0m   \u001b[0mcount\u001b[0m \u001b[0;34m=\u001b[0m \u001b[0mCounter\u001b[0m\u001b[0;34m(\u001b[0m\u001b[0;34m)\u001b[0m\u001b[0;34m\u001b[0m\u001b[0;34m\u001b[0m\u001b[0m\n\u001b[0;32m----> 5\u001b[0;31m   \u001b[0;32mfor\u001b[0m \u001b[0mi\u001b[0m \u001b[0;32min\u001b[0m \u001b[0mname\u001b[0m\u001b[0;34m.\u001b[0m\u001b[0mvalues\u001b[0m\u001b[0;34m(\u001b[0m\u001b[0;34m)\u001b[0m\u001b[0;34m:\u001b[0m\u001b[0;34m\u001b[0m\u001b[0;34m\u001b[0m\u001b[0m\n\u001b[0m\u001b[1;32m      6\u001b[0m     \u001b[0;32mfor\u001b[0m \u001b[0mword\u001b[0m \u001b[0;32min\u001b[0m \u001b[0mi\u001b[0m\u001b[0;34m.\u001b[0m\u001b[0msplit\u001b[0m\u001b[0;34m(\u001b[0m\u001b[0;34m)\u001b[0m\u001b[0;34m:\u001b[0m\u001b[0;34m\u001b[0m\u001b[0;34m\u001b[0m\u001b[0m\n\u001b[1;32m      7\u001b[0m       \u001b[0mcount\u001b[0m\u001b[0;34m[\u001b[0m\u001b[0mword\u001b[0m\u001b[0;34m]\u001b[0m \u001b[0;34m+=\u001b[0m \u001b[0;36m1\u001b[0m\u001b[0;34m\u001b[0m\u001b[0;34m\u001b[0m\u001b[0m\n",
            "\u001b[0;31mTypeError\u001b[0m: 'numpy.ndarray' object is not callable"
          ]
        }
      ]
    },
    {
      "cell_type": "markdown",
      "source": [
        "# Mengubah ke tipe data numpy array\n",
        "Agar dapat diproses oleh model, kita perlu mengubah nilai-nilai dari dataframe ke dalam tipe data numpy array menggunakan atribut values."
      ],
      "metadata": {
        "id": "pZ-M3Arm38CD"
      }
    },
    {
      "cell_type": "code",
      "source": [
        "# Mengubah tipe data menjadi numpy array \n",
        "#text = df_gender['name'].astype(str) # mengubah mjd str\n",
        "name = df_gender['name'].values\n",
        "label = df_gender[['female', 'male',]].values"
      ],
      "metadata": {
        "id": "DAnPHsud36ee"
      },
      "execution_count": 80,
      "outputs": []
    },
    {
      "cell_type": "markdown",
      "source": [
        "# Memisah Data Ke Beberapa Bagian\n",
        "\n",
        "Lalu, bagi data untuk training dan data untuk testing."
      ],
      "metadata": {
        "id": "D4A7H6ZlfThc"
      }
    },
    {
      "cell_type": "code",
      "source": [
        "name_train, name_test, label_train, label_test = train_test_split(name, \n",
        "                                                                  label, \n",
        "                                                                  test_size = 0.2) # Validation set sebesar 20% dari total dataset."
      ],
      "metadata": {
        "id": "FGYO8F2q_J9S"
      },
      "execution_count": 81,
      "outputs": []
    },
    {
      "cell_type": "markdown",
      "source": [
        "# Tokenizer, Sequences, Padding\n",
        "Kemudian ubah setiap kata pada dataset ke dalam bilangan numerik dengan fungsi Tokenizer. Setelah tokenisasi selesai, perlu mengonversi setiap sampel menjadi sequence.\n",
        "\n",
        "Pada tokenisasi terdapat masalah apabila sebuah kata memiliki jumlah dan huruf yang sama seperti “karus” dan “rusak”. Mesin akan membeca kedua kata tersebut adalah sama, maka dari itu kita membutuhkan **Pengurutan (sequences)**.\n",
        "\n",
        "**Pengurutan (sequences)** akan menampung setiap token yang ada ke dalam bentuk array. Dengan begitu masalah sebelumnya dapat terselesaikan.\n",
        "\n",
        "Pada array yang dibuat dengan sequences memiliki panjang yang berbeda-beda dan membuat penginputan data akan menjadi sulit. Kita harus menyamakan panjang pada setiap sequences. Proses penyamaan panjang (resize) bisa disebut juga dengan **padding**.\n"
      ],
      "metadata": {
        "id": "qgCtF8vz_rkl"
      }
    },
    {
      "cell_type": "code",
      "source": [
        "# tokenizer = digunakan untuk mengubah setiap huruf pada setiap kata ke dalam angka tertentu seperti pada format ASCII.\n",
        "tokenizer = Tokenizer(num_words=10000 , oov_token='-') # oov_token -> digunakan jika ada huruf yg tdk dapat ditokenisasi dg baik. Huruf akan diubah mjd karakter yang kita tentukan ('-').\n",
        "tokenizer.fit_on_texts(name_train)\n",
        "tokenizer.fit_on_texts(name_test)\n",
        "\n",
        "# mengonversi ke sequence\n",
        "sekuens_train = tokenizer.texts_to_sequences(name_train)\n",
        "sekuens_test = tokenizer.texts_to_sequences(name_test)\n",
        "\n",
        "# padding = membuat setiap kalimat pada teks memiliki panjang yang seragam\n",
        "padded_train = pad_sequences(sekuens_train,\n",
        "                             maxlen=10,\n",
        "                             padding='post',\n",
        "                             truncating='post') \n",
        "padded_test = pad_sequences(sekuens_test,\n",
        "                            maxlen=10,\n",
        "                            padding='post',\n",
        "                            truncating='post')\n"
      ],
      "metadata": {
        "id": "BiTYL6Qc_rUk"
      },
      "execution_count": 82,
      "outputs": []
    },
    {
      "cell_type": "markdown",
      "source": [
        "# Modelling\n",
        "Pemodelan Sequential dengan Embedding dan LSTM\n"
      ],
      "metadata": {
        "id": "2vn9BOKGBTVW"
      }
    },
    {
      "cell_type": "code",
      "source": [
        "model = Sequential([Embedding(input_dim=10000, # dimensi dari input sebesar nilai num_words pada objek tokenizer\n",
        "                    output_dim=16, # dimensi embedding sebesar 16 \n",
        "                    input_length=None), \n",
        "                    LSTM(64),\n",
        "                    Dense(256, activation='relu'),\n",
        "                    Dropout(0.5),\n",
        "                    Dense(128, activation='relu'),\n",
        "                    Dropout(0.5),\n",
        "                    Dense(64, activation='relu'),\n",
        "                    Dropout(0.5),\n",
        "                    Dense(32, activation='relu'),\n",
        "                    Dropout(0.5),\n",
        "                    Dense(2, activation='sigmoid') # hanya 2 kelas maka menggunakan fungsi sigmoid\n",
        "                    ])\n",
        "\n",
        "#model.summary()"
      ],
      "metadata": {
        "id": "ma1pQFlqBVSw"
      },
      "execution_count": 83,
      "outputs": []
    },
    {
      "cell_type": "markdown",
      "source": [
        "# Callback\n",
        "Penggunaan callback u/ accuracy dan val diatas 90%"
      ],
      "metadata": {
        "id": "HCqdA2s4C7DN"
      }
    },
    {
      "cell_type": "code",
      "source": [
        "class myCallback(tf.keras.callbacks.Callback):\n",
        "  def on_epoch_end(self, epoch, logs={}):\n",
        "    if(logs.get('accuracy')>0.9 and logs.get('val_accuracy')>0.9):\n",
        "      print(\"\\nAkurasi train dan validasi didapat telah mencapai nilai > 90%!\")\n",
        "      self.model.stop_training = True\n",
        "callbacks = myCallback()"
      ],
      "metadata": {
        "id": "NwQDW6bjCsGG"
      },
      "execution_count": 84,
      "outputs": []
    },
    {
      "cell_type": "markdown",
      "source": [
        "# Training Model"
      ],
      "metadata": {
        "id": "wsR-YKx2DApd"
      }
    },
    {
      "cell_type": "markdown",
      "source": [
        "Sebelum melakukan training, compile terlebih dahulu model yang sudah dirancang tadi."
      ],
      "metadata": {
        "id": "lJ7q5uy74PmM"
      }
    },
    {
      "cell_type": "code",
      "source": [
        "Adam(learning_rate=0.00146, name='Adam')\n",
        "# Adam(learning_rate= 0.0005, name='Adam')\n",
        "\n",
        "model.compile(optimizer = 'Adam',\n",
        "              loss = 'binary_crossentropy', # binary_crossentropy krn klasifikasi 2 kelas. Kalo 3 kelas atau lebih = categorical_crossentropy -> outputnya hasil O-H-E. sparse_categorical_crossentropy -> output integer (e.g: 1, 2, 3)\n",
        "              metrics = ['accuracy'])"
      ],
      "metadata": {
        "id": "rl_SBrbd4L4F"
      },
      "execution_count": 85,
      "outputs": []
    },
    {
      "cell_type": "markdown",
      "source": [
        "Pada saat training menggunakan fit(), masukan data teks yang telah di padding beserta labelnya."
      ],
      "metadata": {
        "id": "WALLP78f4ml-"
      }
    },
    {
      "cell_type": "code",
      "source": [
        "num_epochs = 30\n",
        "history = model.fit(padded_train, \n",
        "                    label_train, \n",
        "                    epochs=num_epochs, \n",
        "                    validation_data=(padded_test, label_test), \n",
        "                    verbose=2,\n",
        "                    callbacks=[callbacks])"
      ],
      "metadata": {
        "colab": {
          "base_uri": "https://localhost:8080/"
        },
        "id": "KZrlfevBDDS9",
        "outputId": "852cbdb2-f431-4bce-b786-d6678dd9b092"
      },
      "execution_count": 86,
      "outputs": [
        {
          "output_type": "stream",
          "name": "stdout",
          "text": [
            "Epoch 1/30\n",
            "49/49 - 3s - loss: 0.6898 - accuracy: 0.5568 - val_loss: 0.6905 - val_accuracy: 0.5357 - 3s/epoch - 57ms/step\n",
            "Epoch 2/30\n",
            "49/49 - 0s - loss: 0.6857 - accuracy: 0.5606 - val_loss: 0.6910 - val_accuracy: 0.5357 - 469ms/epoch - 10ms/step\n",
            "Epoch 3/30\n",
            "49/49 - 0s - loss: 0.6692 - accuracy: 0.5625 - val_loss: 0.5694 - val_accuracy: 0.6964 - 464ms/epoch - 9ms/step\n",
            "Epoch 4/30\n",
            "49/49 - 0s - loss: 0.3287 - accuracy: 0.8648 - val_loss: 0.5649 - val_accuracy: 0.7500 - 462ms/epoch - 9ms/step\n",
            "Epoch 5/30\n",
            "49/49 - 0s - loss: 0.1583 - accuracy: 0.9617 - val_loss: 0.8856 - val_accuracy: 0.7806 - 464ms/epoch - 9ms/step\n",
            "Epoch 6/30\n",
            "49/49 - 0s - loss: 0.0776 - accuracy: 0.9853 - val_loss: 1.1109 - val_accuracy: 0.7755 - 486ms/epoch - 10ms/step\n",
            "Epoch 7/30\n",
            "49/49 - 0s - loss: 0.0595 - accuracy: 0.9949 - val_loss: 1.2367 - val_accuracy: 0.7755 - 470ms/epoch - 10ms/step\n",
            "Epoch 8/30\n",
            "49/49 - 0s - loss: 0.0364 - accuracy: 0.9974 - val_loss: 1.4872 - val_accuracy: 0.7679 - 483ms/epoch - 10ms/step\n",
            "Epoch 9/30\n",
            "49/49 - 0s - loss: 0.0187 - accuracy: 0.9987 - val_loss: 1.8177 - val_accuracy: 0.7704 - 473ms/epoch - 10ms/step\n",
            "Epoch 10/30\n",
            "49/49 - 0s - loss: 0.0246 - accuracy: 0.9943 - val_loss: 1.3951 - val_accuracy: 0.7628 - 454ms/epoch - 9ms/step\n",
            "Epoch 11/30\n",
            "49/49 - 0s - loss: 0.0272 - accuracy: 0.9962 - val_loss: 1.0825 - val_accuracy: 0.7806 - 458ms/epoch - 9ms/step\n",
            "Epoch 12/30\n",
            "49/49 - 0s - loss: 0.0131 - accuracy: 0.9962 - val_loss: 2.2395 - val_accuracy: 0.7577 - 471ms/epoch - 10ms/step\n",
            "Epoch 13/30\n",
            "49/49 - 0s - loss: 0.0326 - accuracy: 0.9930 - val_loss: 2.2494 - val_accuracy: 0.7628 - 458ms/epoch - 9ms/step\n",
            "Epoch 14/30\n",
            "49/49 - 0s - loss: 0.0157 - accuracy: 0.9987 - val_loss: 2.5683 - val_accuracy: 0.7704 - 450ms/epoch - 9ms/step\n",
            "Epoch 15/30\n",
            "49/49 - 0s - loss: 0.0331 - accuracy: 0.9968 - val_loss: 1.3769 - val_accuracy: 0.7526 - 469ms/epoch - 10ms/step\n",
            "Epoch 16/30\n",
            "49/49 - 0s - loss: 0.0371 - accuracy: 0.9968 - val_loss: 1.4577 - val_accuracy: 0.7628 - 481ms/epoch - 10ms/step\n",
            "Epoch 17/30\n",
            "49/49 - 0s - loss: 0.0151 - accuracy: 0.9981 - val_loss: 1.5922 - val_accuracy: 0.7602 - 477ms/epoch - 10ms/step\n",
            "Epoch 18/30\n",
            "49/49 - 0s - loss: 0.0044 - accuracy: 0.9994 - val_loss: 2.1624 - val_accuracy: 0.7628 - 465ms/epoch - 9ms/step\n",
            "Epoch 19/30\n",
            "49/49 - 0s - loss: 0.0046 - accuracy: 0.9987 - val_loss: 2.4804 - val_accuracy: 0.7602 - 451ms/epoch - 9ms/step\n",
            "Epoch 20/30\n",
            "49/49 - 0s - loss: 0.0122 - accuracy: 0.9987 - val_loss: 1.5496 - val_accuracy: 0.7679 - 460ms/epoch - 9ms/step\n",
            "Epoch 21/30\n",
            "49/49 - 0s - loss: 0.0029 - accuracy: 1.0000 - val_loss: 2.0857 - val_accuracy: 0.7602 - 458ms/epoch - 9ms/step\n",
            "Epoch 22/30\n",
            "49/49 - 0s - loss: 0.0023 - accuracy: 0.9994 - val_loss: 2.6637 - val_accuracy: 0.7653 - 481ms/epoch - 10ms/step\n",
            "Epoch 23/30\n",
            "49/49 - 0s - loss: 0.0062 - accuracy: 0.9974 - val_loss: 2.6453 - val_accuracy: 0.7679 - 460ms/epoch - 9ms/step\n",
            "Epoch 24/30\n",
            "49/49 - 0s - loss: 0.0076 - accuracy: 0.9974 - val_loss: 3.0971 - val_accuracy: 0.7602 - 487ms/epoch - 10ms/step\n",
            "Epoch 25/30\n",
            "49/49 - 0s - loss: 0.0027 - accuracy: 0.9994 - val_loss: 2.6351 - val_accuracy: 0.7474 - 467ms/epoch - 10ms/step\n",
            "Epoch 26/30\n",
            "49/49 - 0s - loss: 0.0082 - accuracy: 0.9981 - val_loss: 2.6273 - val_accuracy: 0.7602 - 476ms/epoch - 10ms/step\n",
            "Epoch 27/30\n",
            "49/49 - 0s - loss: 0.0118 - accuracy: 0.9981 - val_loss: 2.2000 - val_accuracy: 0.7602 - 474ms/epoch - 10ms/step\n",
            "Epoch 28/30\n",
            "49/49 - 0s - loss: 0.0017 - accuracy: 1.0000 - val_loss: 2.6553 - val_accuracy: 0.7526 - 498ms/epoch - 10ms/step\n",
            "Epoch 29/30\n",
            "49/49 - 0s - loss: 7.5870e-04 - accuracy: 1.0000 - val_loss: 2.9552 - val_accuracy: 0.7526 - 470ms/epoch - 10ms/step\n",
            "Epoch 30/30\n",
            "49/49 - 0s - loss: 0.0012 - accuracy: 1.0000 - val_loss: 3.5414 - val_accuracy: 0.7551 - 473ms/epoch - 10ms/step\n"
          ]
        }
      ]
    },
    {
      "cell_type": "markdown",
      "source": [
        "# Visualize training results\n"
      ],
      "metadata": {
        "id": "MbMRNVcTIwP-"
      }
    },
    {
      "cell_type": "markdown",
      "source": [
        "Untuk evaluasi pelatihan model, kita akan menggunakan matplotlib untuk membuat grafik histori dari pelatihan sebelumnya."
      ],
      "metadata": {
        "id": "Ta1w-Rco4zXM"
      }
    },
    {
      "cell_type": "code",
      "source": [
        "# Plot Accuracy\n",
        "plt.plot(history.history['accuracy'])\n",
        "plt.plot(history.history['val_accuracy'])\n",
        "plt.title('Akurasi Model')\n",
        "plt.ylabel('accuracy')\n",
        "plt.xlabel('epoch')\n",
        "plt.legend(['train', 'test'], loc='upper left')\n",
        "plt.show()\n",
        "\n",
        "# Plot Loss\n",
        "plt.plot(history.history['loss'])\n",
        "plt.plot(history.history['val_loss'])\n",
        "plt.title('Loss Model')\n",
        "plt.ylabel('loss')\n",
        "plt.xlabel('epoch')\n",
        "plt.legend(['train', 'test'], loc='upper left')\n",
        "plt.show()"
      ],
      "metadata": {
        "colab": {
          "base_uri": "https://localhost:8080/",
          "height": 573
        },
        "id": "OsMWSHuJIxYi",
        "outputId": "610b87dd-3c3b-45c7-9bee-e31f0438dcae"
      },
      "execution_count": 87,
      "outputs": [
        {
          "output_type": "display_data",
          "data": {
            "image/png": "[encoded data removed]",
            "text/plain": [
              "<Figure size 432x288 with 1 Axes>"
            ]
          },
          "metadata": {
            "needs_background": "light"
          }
        },
        {
          "output_type": "display_data",
          "data": {
            "image/png": "[encoded data removed]",
            "text/plain": [
              "<Figure size 432x288 with 1 Axes>"
            ]
          },
          "metadata": {
            "needs_background": "light"
          }
        }
      ]
    }
  ]
}